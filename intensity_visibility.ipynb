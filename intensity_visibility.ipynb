{
 "cells": [
  {
   "cell_type": "code",
   "execution_count": 2,
   "id": "42c7eb1c",
   "metadata": {},
   "outputs": [],
   "source": [
    "import numpy as np\n",
    "import matplotlib.pyplot as plt\n",
    "from scipy.fft import fft2, fftshift"
   ]
  },
  {
   "cell_type": "code",
   "execution_count": 3,
   "id": "744d2dd1",
   "metadata": {},
   "outputs": [],
   "source": [
    "#建立模型\n",
    "\n",
    "#點光源\n",
    "def point_source(size):\n",
    "    img = np.zeros((size, size))\n",
    "    img[size //2, size //2] = 1.0\n",
    "    return img\n",
    "\n",
    "#Gaussian分布\n",
    "def gaussian(size, sigma_x, sigma_y=None):\n",
    "    if sigma_y is None:\n",
    "        sigma_y = sigma_x\n",
    "    x = np.linspace(-1, 1, size)\n",
    "    y = np.linspace(-1, 1, size)\n",
    "    X, Y = np.meshgrid(x, y)\n",
    "    Z = np.exp(-(X**2 / (2*sigma_x**2)+ Y**2 / (2*sigma_y**2)))\n",
    "    return Z\n",
    "\n",
    "#disk\n",
    "def disk(size, radius):\n",
    "    x = np.linspace(-1, 1, size)\n",
    "    y = np.linspace(-1, 1, size)\n",
    "    X, Y = np.meshgrid(x, y)\n",
    "    R = np.sqrt(X**2 + Y**2)\n",
    "    Z = (R <= radius).astype(float)\n",
    "    return Z\n"
   ]
  },
  {
   "cell_type": "code",
   "execution_count": null,
   "id": "d2acbad6",
   "metadata": {},
   "outputs": [
    {
     "data": {
      "image/png": "[encoded data removed]",
      "text/plain": [
       "<Figure size 900x300 with 3 Axes>"
      ]
     },
     "metadata": {},
     "output_type": "display_data"
    },
    {
     "data": {
      "text/plain": [
       "'for i, (title, img) in enumerate(model):\\n    #intensity\\n    axs[i, 0].imshow(img, origin=\\'lower\\', cmap=\\'inferno\\')\\n    axs[i, 0].set_title(title)\\n    axs[i, 0].set_xlabel(\"x\")\\n    axs[i, 0].set_ylabel(\"y\")\\n\\n    #FT\\n    vis_img = fftshift(fft2(img))\\n    amplitude = np.abs(vis_img)\\n\\n    axs[i, 1].imshow(amplitude, origin=\\'lower\\', cmap=\\'viridis\\')\\n    axs[i, 1].set_title(\"UV domain\")\\n    axs[i, 1].set_xlabel(\"u\")\\n    axs[i, 1].set_ylabel(\"v\")\\n\\n    #uv-distance profile（圓對稱平均）\\n    u = np.arange(-size // 2, size // 2)\\n    U, V = np.meshgrid(u, u)\\n    uv_dist = np.sqrt(U**2 + V**2).astype(int)  #把距離轉成整數\\n\\n    max_dist = uv_dist.max()\\n    amp_profile = np.zeros(max_dist + 1)    #每個振幅點總和\\n    counts = np.zeros(max_dist + 1) #每個r有幾個點，用來平均\\n\\n    for r in range(max_dist + 1):\\n        mask = (uv_dist == r)   #找出距離=r的點\\n        amp_profile[r] = amplitude[mask].sum()  #總和\\n        counts[r] = mask.sum()  #圓環裡有幾個點\\n    amp_profile /= counts\\n\\n    axs[i, 2].plot(amp_profile)\\n    axs[i, 2].set_title(\\'Amplitude vs. UV-distance\\')\\n    axs[i, 2].set_xlabel(\\'UV-distance (arb. units)\\')\\n    axs[i, 2].set_ylabel(\\'Amplitude\\')\\n\\nplt.tight_layout(rect=[0, 0, 1, 0.96])\\nplt.show()'"
      ]
     },
     "execution_count": 13,
     "metadata": {},
     "output_type": "execute_result"
    }
   ],
   "source": [
    "#畫圖\n",
    "\n",
    "#四個東西\n",
    "size = 256\n",
    "#model = [(\"Point Source\", point_source(size)),\n",
    "#         (\"Gaussian (circular)\", gaussian(size, 0.05)),\n",
    "#         (\"Gaussian (elliptical)\", gaussian(size, 0.01, 0.05)),\n",
    "#         (\"Disk\", disk(size, 0.05))]\n",
    "\n",
    "fig, axs = plt.subplots(1,3 ,figsize=(9, 3))\n",
    "img = point_source(size)\n",
    "\n",
    "axs[0].imshow(img, origin=\"lower\", cmap=\"inferno\")\n",
    "axs[0].set_title(\"Point Source-image domain\")\n",
    "axs[0].set_xlabel(\"x\")\n",
    "axs[0].set_ylabel(\"y\")\n",
    "\n",
    "#FT\n",
    "\n",
    "vis_img = fftshift(fft2(img))\n",
    "amplitude = np.abs(vis_img)\n",
    "\n",
    "axs[1].imshow(amplitude, origin=\"lower\", cmap=\"viridis\")\n",
    "axs[1].set_title(\"Point Source-UV domain\")\n",
    "axs[1].set_xlabel(\"u\")\n",
    "axs[1].set_ylabel(\"v\")\n",
    "\n",
    "#建立uv-distance(前置)\n",
    "u = np.arange(-size //2, size // 2)\n",
    "U, V = np.meshgrid(u, u)\n",
    "uv_dist = np.sqrt(U**2 + V**2).astype(int)\n",
    "\n",
    "max_dist = uv_dist.max()\n",
    "amp_profile = np.zeros(max_dist + 1)\n",
    "counts = np.zeros(max_dist + 1)\n",
    "\n",
    "#開始算\n",
    "for r in range(max_dist + 1):\n",
    "    mask = (uv_dist == r)\n",
    "    amp_profile[r] = amplitude[mask].sum()\n",
    "    counts[r] = mask.sum()\n",
    "\n",
    "amp_profile /= counts\n",
    "\n",
    "axs[2].plot(amp_profile)\n",
    "axs[2].set_title(\"Amp. vs UV-distance\")\n",
    "axs[2].set_xlabel(\"UV-distance\")\n",
    "axs[2].set_ylabel(\"Amp.\")\n",
    "\n",
    "plt.tight_layout(rect=[0, 0, 1, 0.96])\n",
    "plt.show()"
   ]
  },
  {
   "cell_type": "code",
   "execution_count": null,
   "id": "cbb8ba22",
   "metadata": {},
   "outputs": [],
   "source": [
    "\n",
    "'''for i, (title, img) in enumerate(model):\n",
    "    #intensity\n",
    "    axs[i, 0].imshow(img, origin='lower', cmap='inferno')\n",
    "    axs[i, 0].set_title(title)\n",
    "    axs[i, 0].set_xlabel(\"x\")\n",
    "    axs[i, 0].set_ylabel(\"y\")\n",
    "\n",
    "    #FT\n",
    "    vis_img = fftshift(fft2(img))\n",
    "    amplitude = np.abs(vis_img)\n",
    "\n",
    "    axs[i, 1].imshow(amplitude, origin='lower', cmap='viridis')\n",
    "    axs[i, 1].set_title(\"UV domain\")\n",
    "    axs[i, 1].set_xlabel(\"u\")\n",
    "    axs[i, 1].set_ylabel(\"v\")\n",
    "\n",
    "    #uv-distance profile（圓對稱平均）\n",
    "    u = np.arange(-size // 2, size // 2)\n",
    "    U, V = np.meshgrid(u, u)\n",
    "    uv_dist = np.sqrt(U**2 + V**2).astype(int)  #把距離轉成整數\n",
    "\n",
    "    max_dist = uv_dist.max()\n",
    "    amp_profile = np.zeros(max_dist + 1)    #每個振幅點總和\n",
    "    counts = np.zeros(max_dist + 1) #每個r有幾個點，用來平均\n",
    "\n",
    "    for r in range(max_dist + 1):\n",
    "        mask = (uv_dist == r)   #找出距離=r的點\n",
    "        amp_profile[r] = amplitude[mask].sum()  #總和\n",
    "        counts[r] = mask.sum()  #圓環裡有幾個點\n",
    "    amp_profile /= counts\n",
    "\n",
    "    axs[i, 2].plot(amp_profile)\n",
    "    axs[i, 2].set_title('Amplitude vs. UV-distance')\n",
    "    axs[i, 2].set_xlabel('UV-distance (arb. units)')\n",
    "    axs[i, 2].set_ylabel('Amplitude')\n",
    "\n",
    "plt.tight_layout(rect=[0, 0, 1, 0.96])\n",
    "plt.show()'''"
   ]
  }
 ],
 "metadata": {
  "kernelspec": {
   "display_name": "base",
   "language": "python",
   "name": "python3"
  },
  "language_info": {
   "codemirror_mode": {
    "name": "ipython",
    "version": 3
   },
   "file_extension": ".py",
   "mimetype": "text/x-python",
   "name": "python",
   "nbconvert_exporter": "python",
   "pygments_lexer": "ipython3",
   "version": "3.13.5"
  }
 },
 "nbformat": 4,
 "nbformat_minor": 5
}
